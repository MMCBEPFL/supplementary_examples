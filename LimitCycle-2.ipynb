{
 "cells": [
  {
   "cell_type": "markdown",
   "metadata": {},
   "source": [
    "**Course**: [_Modélisation mathématique et computationnelle en biologie_](https://moodle.epfl.ch/course/info.php?id=14291) (BIO-341)\n",
    "\n",
    "**Professor**: _Felix Naef_\n",
    "\n",
    "SSV, BA5, 2019"
   ]
  },
  {
   "cell_type": "code",
   "execution_count": 1,
   "metadata": {},
   "outputs": [],
   "source": [
    "#import important libraries\n",
    "import numpy as np\n",
    "import matplotlib.pyplot as plt\n",
    "from ipywidgets import interact, fixed\n",
    "from scipy.integrate import odeint\n",
    "from IPython.display import set_matplotlib_formats\n",
    "from matplotlib.markers import MarkerStyle\n",
    "set_matplotlib_formats('png', 'pdf')"
   ]
  },
  {
   "cell_type": "code",
   "execution_count": 8,
   "metadata": {},
   "outputs": [
    {
     "data": {
      "application/vnd.jupyter.widget-view+json": {
       "model_id": "2e12ae4f24664011b769bbc5286a6cf9",
       "version_major": 2,
       "version_minor": 0
      },
      "text/plain": [
       "interactive(children=(FloatSlider(value=1.0, description='a', max=5.0, step=0.5), FloatSlider(value=1.0, descr…"
      ]
     },
     "metadata": {},
     "output_type": "display_data"
    },
    {
     "data": {
      "text/plain": [
       "<function __main__.animate(x0, time, a=1, b=1)>"
      ]
     },
     "execution_count": 8,
     "metadata": {},
     "output_type": "execute_result"
    }
   ],
   "source": [
    "def phase_portrait(F, par, xdomain, ydomain, initial_conditions = None, time_domain = None):\n",
    "    \n",
    "    #grid for both coordinates\n",
    "    x, y = np.meshgrid(xdomain, ydomain)\n",
    "    \n",
    "    a=par['a']\n",
    "    b=par['b']\n",
    "\n",
    "    #compute the derivatives for all points of the grid\n",
    "    dx = -x + a*y + x**2*y \n",
    "    dy = b*(x**0) - a*y - x**2*y\n",
    "\n",
    "    #normalize\n",
    "    eps=1.0e-6\n",
    "    temp = dx/(dx**2+dy**2+eps)**0.5 \n",
    "    dy = dy/(dx**2+dy**2+eps)**0.5\n",
    "    dx = temp\n",
    "\n",
    "    #plot the vectorfield\n",
    "    plt.figure(figsize = (10,10)) #initialize an empty square figure\n",
    "    plt.quiver(x,y,dx,dy, color = \"lightblue\") #plot the vectorfield\n",
    "    \n",
    "    #plot the nullclines  \n",
    "#     plt.plot(0*xdomain+.01, ydomain, c = 'blue', ls = '--', lw = 2, label = 'x-nullcline')\n",
    "    plt.plot(xdomain, xdomain / (a + xdomain**2), c = 'blue', ls = '--', lw = 2, label = 'x-nullcline')\n",
    "    plt.plot(xdomain, b / (a + xdomain**2), c = 'green', ls = '--', lw = 2, label = 'x-nullcline')\n",
    "    \n",
    "#     #plot the eigenvectors\n",
    "#     [Lambda, V] = np.linalg.eig(A)\n",
    "#     v1, v2 = V[:,0], V[:,1]\n",
    "#     if not abs(Lambda[0].imag)>0:\n",
    "#         plt.plot(xdomain*v1[0], ydomain*v1[1], c = 'orange', ls = '-.', lw = 2, label = 'v1')\n",
    "#         plt.plot(xdomain*v2[0], ydomain*v2[1], c = 'brown', ls = '-.', lw = 2, label = 'v2')\n",
    "\n",
    "#     if initial_conditions is not None and time_domain is not None:\n",
    "\n",
    "# plot the confinement region\n",
    "#    plt.plot([0,0,b],[0,b/a,b/a], color='purple', lw=2)\n",
    "    \n",
    "\n",
    "#       plot some selected trajectories\n",
    "    for x0 in initial_conditions:\n",
    "        X = odeint(F, x0, time_domain, args=(a, b))\n",
    "        plt.plot(X[:,0],X[:,1], color = 'red')\n",
    "\n",
    "    #adjust figure parameters\n",
    "    plt.xlim([xdomain[0]-0.1,xdomain[-1]])\n",
    "    plt.ylim([ydomain[0]-0.1,ydomain[-1]])\n",
    "    plt.xlabel('x')\n",
    "    plt.ylabel('y')\n",
    "#    plt.title(str(Lambda[0]) + ' ' + str(Lambda[1]))\n",
    "#     plt.legend()\n",
    "    plt.grid()\n",
    "    plt.show()\n",
    "\n",
    "#define the time domain\n",
    "time = np.linspace(0,10,1000)\n",
    "\n",
    "#initial conditions\n",
    "x0 = [(0,y0) for y0 in [0,0.5,1,1.5,2,2.5,3] ]\n",
    "x0 = x0 + [(0.5,0),(1,0),(1.5,0)]\n",
    "\n",
    "\n",
    "# def deg_node(x0, time, eps=-0.2, range=3):\n",
    "#     #define the function domain\n",
    "\n",
    "rangex=3\n",
    "rangey=3\n",
    "\n",
    "xdom = np.linspace(0,rangex,20)\n",
    "ydom = np.linspace(0,rangey,20)\n",
    "\n",
    "def xdot(X, t ,a, b):\n",
    "    x=X[0]\n",
    "    y=X[1]\n",
    "    dx = -x + a*y + x**2*y \n",
    "    dy = b*(x**0) - a*y - x**2*y\n",
    "    return np.array([dx,dy])\n",
    "\n",
    "def animate(x0, time, a=1, b=1):\n",
    "    #define the function domain\n",
    "    xdom = np.linspace(0, rangex,20)\n",
    "    ydom = np.linspace(0,rangey,20)\n",
    "    par={'a':a,'b':b}\n",
    "    phase_portrait(xdot, par, xdom, ydom, x0, time)\n",
    "\n",
    "interact(animate, x0=fixed(x0), time=fixed(time), a = (0,5,0.5), b = (0,5,0.5))\n",
    "\n",
    "# interact(deg_node, x0=fixed(x0_conditions), time=fixed(time_domain), eps = (-0.5,0.5,0.01), range=(1,10))\n"
   ]
  },
  {
   "cell_type": "code",
   "execution_count": null,
   "metadata": {},
   "outputs": [],
   "source": []
  }
 ],
 "metadata": {
  "anaconda-cloud": {},
  "kernelspec": {
   "display_name": "Python 3",
   "language": "python",
   "name": "python3"
  },
  "language_info": {
   "codemirror_mode": {
    "name": "ipython",
    "version": 3
   },
   "file_extension": ".py",
   "mimetype": "text/x-python",
   "name": "python",
   "nbconvert_exporter": "python",
   "pygments_lexer": "ipython3",
   "version": "3.6.8"
  },
  "title": "Exercise 4: Linear 2D systems and random gene networks"
 },
 "nbformat": 4,
 "nbformat_minor": 4
}
