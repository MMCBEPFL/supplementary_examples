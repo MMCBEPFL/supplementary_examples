{
 "cells": [
  {
   "cell_type": "markdown",
   "metadata": {},
   "source": [
    "**Course**: [BIO-341 Systèmes Dynamiques en Biologie](https://moodle.epfl.ch/course/info.php?id=14291)\n",
    "\n",
    "**Professor**: _Felix Naef_\n",
    "# Phase portraits for linear sytems in 2D"
   ]
  },
  {
   "cell_type": "markdown",
   "metadata": {},
   "source": [
    "This notebook illustrate phase portraits for the linear system $$\\dot{x}=A x$$ with a matrix $A$ of the type\n",
    "$$A=\\begin{bmatrix}\n",
    "-1 & 3 \\\\\n",
    "-\\epsilon & -1\n",
    "\\end{bmatrix}$$\n",
    "In the notebook below, you can change $\\epsilon$. For $\\epsilon=0$, the matrix is non-diagonalizable and the eigenspace for the eigenvalue $\\lambda=-1$ is one-dimensional. This leads to a so-called degenerate fixed point. For $\\epsilon\\ne0$ there are two distinct eigenvalues.\n",
    "\n",
    "Here we show the solution using the exact expression\n",
    "\\begin{equation}\n",
    "e^{tA}=e^{st}\\left(\\left(\\cosh(qt)-s\\frac{\\sinh(qt)}{q}\\right)I + \\frac{\\sinh(qt)}{q} A\\right)\n",
    "\\end{equation}\n",
    "with $s=\\frac 1 2 (\\alpha+\\beta)$ and $q=\\frac 1 2 (\\alpha-\\beta)$ and $\\alpha,\\beta$ the eigenvalues of $A$. "
   ]
  },
  {
   "cell_type": "code",
   "execution_count": 5,
   "metadata": {},
   "outputs": [],
   "source": [
    "#import important libraries\n",
    "import numpy as np\n",
    "import matplotlib.pyplot as plt\n",
    "from ipywidgets import interact, fixed\n",
    "from scipy.integrate import odeint\n",
    "from IPython.display import set_matplotlib_formats\n",
    "from matplotlib.markers import MarkerStyle\n",
    "set_matplotlib_formats('png', 'pdf')"
   ]
  },
  {
   "cell_type": "markdown",
   "metadata": {},
   "source": [
    "## Phase portrait\n",
    "\n",
    "Plots the phase portrait in function of $\\epsilon$. Eigenvalues are shown on top of the plot."
   ]
  },
  {
   "cell_type": "code",
   "execution_count": 6,
   "metadata": {},
   "outputs": [
    {
     "data": {
      "application/vnd.jupyter.widget-view+json": {
       "model_id": "5a16232d86c142fb836cd8072cbd4c9b",
       "version_major": 2,
       "version_minor": 0
      },
      "text/plain": [
       "interactive(children=(FloatSlider(value=0.01, description='eps', max=0.5, min=-0.5, step=0.01), IntSlider(valu…"
      ]
     },
     "metadata": {},
     "output_type": "display_data"
    },
    {
     "data": {
      "text/plain": [
       "<function __main__.deg_node(x0, time, eps=0.01, range=3)>"
      ]
     },
     "execution_count": 6,
     "metadata": {},
     "output_type": "execute_result"
    }
   ],
   "source": [
    "def exp_tA(A, t):\n",
    "    [Lambda, V] = np.linalg.eig(A)\n",
    "    s=(Lambda[0]+Lambda[1])/2\n",
    "    q=(Lambda[0]-Lambda[1])/2\n",
    "#     print((s,q))\n",
    "    \n",
    "    f1=np.exp(s*t)\n",
    "    if np.abs(q)>0:\n",
    "        f2=np.sinh(q*t)/q\n",
    "    else:\n",
    "        f2=t\n",
    "    f3=np.cosh(q*t)-s*f2\n",
    "#     print((f1,f2,f3))\n",
    "    \n",
    "    exptA = f1 * (f3*np.eye(2) + f2 * A)\n",
    "    return exptA\n",
    "\n",
    "def exact_solution(A, x0, times=np.array([1])):\n",
    "    sol = np.empty((0,2)) # create an empty array\n",
    "    for t in times:\n",
    "        xt = exp_tA(A, t) @ np.asarray(x0)\n",
    "        sol = np.vstack((sol, xt))\n",
    "    return sol\n",
    "\n",
    "def phase_portrait(A, xdomain, ydomain, initial_conditions = None, time_domain = None):\n",
    "    \n",
    "    #grid for both coordinates\n",
    "    x, y = np.meshgrid(xdomain, ydomain)\n",
    "    \n",
    "    #compute the derivatives for all points of the grid\n",
    "    dx = A[0,0]*x+A[0,1]*y \n",
    "    dy = A[1,0]*x+A[1,1]*y\n",
    "\n",
    "    #normalize\n",
    "    temp = dx/(dx**2+dy**2)**0.5 \n",
    "    dy = dy/(dx**2+dy**2)**0.5\n",
    "    dx = temp\n",
    "\n",
    "    #plot the vectorfield\n",
    "    plt.figure(figsize = (15,15)) #initialize an empty square figure\n",
    "    plt.quiver(x,y,dx,dy, color = \"lightblue\") #plot the vectorfield\n",
    "    \n",
    "    #plot the nullclines  \n",
    "    plt.plot(xdomain, -A[0,0]/A[0,1]*xdomain, c = 'blue', ls = '--', lw = 2, label = 'x-nullcline')\n",
    "    plt.plot(xdomain, -A[1,0]/A[1,1]*xdomain, c = 'green', ls = '--', lw = 2, label = 'y-nullcline')\n",
    "    \n",
    "    #plot the eigenvectors\n",
    "    [Lambda, V] = np.linalg.eig(A)\n",
    "    v1, v2 = V[:,0], V[:,1]\n",
    "    if not abs(Lambda[0].imag)>0:\n",
    "        plt.plot(xdomain*v1[0], ydomain*v1[1], c = 'orange', ls = '-.', lw = 2, label = 'v1')\n",
    "        plt.plot(xdomain*v2[0], ydomain*v2[1], c = 'brown', ls = '-.', lw = 2, label = 'v2')\n",
    "\n",
    "    if initial_conditions is not None and time_domain is not None:\n",
    "        def F(X, t, A):\n",
    "            return A@X\n",
    "        #plot trajectories\n",
    "        for x0 in initial_conditions:\n",
    "            X = odeint(F, x0, time_domain, args=(A,))\n",
    "#             print(X.shape)\n",
    "            plt.plot(X[:,0],X[:,1], color = 'red')\n",
    "            \n",
    "            X_exact = exact_solution(A, x0, times=time_domain)\n",
    "#             print(X_exact.shape)\n",
    "            plt.plot(X_exact[:,0],X_exact[:,1], color = 'pink')\n",
    "\n",
    "    #adjust figure parameters\n",
    "    plt.xlim([xdomain[0],xdomain[-1]])\n",
    "    plt.ylim([ydomain[0],ydomain[-1]])\n",
    "    plt.xlabel('x')\n",
    "    plt.ylabel('y')\n",
    "    plt.title(str(Lambda[0]) + ' ' + str(Lambda[1]))\n",
    "    plt.legend()\n",
    "    plt.grid()\n",
    "    plt.show()\n",
    "\n",
    "#define the time domain\n",
    "time_domain = np.linspace(0,10,1000)\n",
    "\n",
    "#initial conditions\n",
    "x0_conditions = [(-10,2),(-10,4),(10,-2),(10,-4)]\n",
    "x0_conditions = [(-10,2),(-10,4),(10,-2),(10,-4),(-10,5),(-10,6),(-10,8),(-10,10),(10,5),(10,6),(10,8),(10,10)]\n",
    "\n",
    "\n",
    "def deg_node(x0, time, eps=0.01, range=3):\n",
    "    #define the function domain\n",
    "    xdom = np.linspace(-range,range,20)\n",
    "    ydom = np.linspace(-range,range,20)\n",
    "    phase_portrait(np.array([[-1,3],[-eps,-1]]), xdom, ydom, x0, time)\n",
    "\n",
    "\n",
    "interact(deg_node, x0=fixed(x0_conditions), time=fixed(time_domain), eps = (-0.5,0.5,0.01), range=(1,10))\n"
   ]
  },
  {
   "cell_type": "code",
   "execution_count": null,
   "metadata": {},
   "outputs": [],
   "source": []
  },
  {
   "cell_type": "code",
   "execution_count": null,
   "metadata": {},
   "outputs": [],
   "source": []
  }
 ],
 "metadata": {
  "anaconda-cloud": {},
  "kernelspec": {
   "display_name": "Python 3",
   "language": "python",
   "name": "python3"
  },
  "language_info": {
   "codemirror_mode": {
    "name": "ipython",
    "version": 3
   },
   "file_extension": ".py",
   "mimetype": "text/x-python",
   "name": "python",
   "nbconvert_exporter": "python",
   "pygments_lexer": "ipython3",
   "version": "3.7.4"
  },
  "title": "Exercise 4: Linear 2D systems and random gene networks"
 },
 "nbformat": 4,
 "nbformat_minor": 4
}
