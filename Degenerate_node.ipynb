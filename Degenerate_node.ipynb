{
 "cells": [
  {
   "cell_type": "markdown",
   "metadata": {},
   "source": [
    "**Course**: [_Modélisation mathématique et computationnelle en biologie_](https://moodle.epfl.ch/course/info.php?id=14291) (BIO-341)\n",
    "\n",
    "**Professor**: _Felix Naef_\n",
    "\n",
    "SSV, BA5, 2019"
   ]
  },
  {
   "cell_type": "code",
   "execution_count": 5,
   "metadata": {},
   "outputs": [],
   "source": [
    "#import important libraries\n",
    "import numpy as np\n",
    "import matplotlib.pyplot as plt\n",
    "from ipywidgets import interact, fixed\n",
    "from scipy.integrate import odeint\n",
    "from IPython.display import set_matplotlib_formats\n",
    "from matplotlib.markers import MarkerStyle\n",
    "set_matplotlib_formats('png', 'pdf')"
   ]
  },
  {
   "cell_type": "code",
   "execution_count": 7,
   "metadata": {},
   "outputs": [
    {
     "data": {
      "application/vnd.jupyter.widget-view+json": {
       "model_id": "dacc33954f864f7f8f9ff44188b89619",
       "version_major": 2,
       "version_minor": 0
      },
      "text/plain": [
       "interactive(children=(FloatSlider(value=-0.2, description='eps', max=0.5, min=-0.5, step=0.01), IntSlider(valu…"
      ]
     },
     "metadata": {},
     "output_type": "display_data"
    },
    {
     "data": {
      "text/plain": [
       "<function __main__.deg_node(x0, time, eps=-0.2, range=3)>"
      ]
     },
     "execution_count": 7,
     "metadata": {},
     "output_type": "execute_result"
    }
   ],
   "source": [
    "def phase_portrait(A, xdomain, ydomain, initial_conditions = None, time_domain = None):\n",
    "    \n",
    "    #grid for both coordinates\n",
    "    x, y = np.meshgrid(xdomain, ydomain)\n",
    "    \n",
    "    #compute the derivatives for all points of the grid\n",
    "    dx = A[0,0]*x+A[0,1]*y \n",
    "    dy = A[1,0]*x+A[1,1]*y\n",
    "\n",
    "    #normalize\n",
    "    temp = dx/(dx**2+dy**2)**0.5 \n",
    "    dy = dy/(dx**2+dy**2)**0.5\n",
    "    dx = temp\n",
    "\n",
    "    #plot the vectorfield\n",
    "    plt.figure(figsize = (15,15)) #initialize an empty square figure\n",
    "    plt.quiver(x,y,dx,dy, color = \"lightblue\") #plot the vectorfield\n",
    "    \n",
    "    #plot the nullclines  \n",
    "    plt.plot(xdomain, -A[0,0]/A[0,1]*xdomain, c = 'blue', ls = '--', lw = 2, label = 'x-nullcline')\n",
    "    plt.plot(xdomain, -A[1,0]/A[1,1]*xdomain, c = 'green', ls = '--', lw = 2, label = 'y-nullcline')\n",
    "    \n",
    "    #plot the eigenvectors\n",
    "    [Lambda, V] = np.linalg.eig(A)\n",
    "    v1, v2 = V[:,0], V[:,1]\n",
    "    if not abs(Lambda[0].imag)>0:\n",
    "        plt.plot(xdomain*v1[0], ydomain*v1[1], c = 'orange', ls = '-.', lw = 2, label = 'v1')\n",
    "        plt.plot(xdomain*v2[0], ydomain*v2[1], c = 'brown', ls = '-.', lw = 2, label = 'v2')\n",
    "\n",
    "    if initial_conditions is not None and time_domain is not None:\n",
    "        def F(X, t, A):\n",
    "            return A@X\n",
    "        #plot some selected trajectories\n",
    "        for x0 in initial_conditions:\n",
    "            X = odeint(F, x0, time_domain, args=(A,))\n",
    "            plt.plot(X[:,0],X[:,1], color = 'red')\n",
    "\n",
    "    #adjust figure parameters\n",
    "    plt.xlim([xdomain[0],xdomain[-1]])\n",
    "    plt.ylim([ydomain[0],ydomain[-1]])\n",
    "    plt.xlabel('x')\n",
    "    plt.ylabel('y')\n",
    "    plt.title(str(Lambda[0]) + ' ' + str(Lambda[1]))\n",
    "    plt.legend()\n",
    "    plt.grid()\n",
    "    plt.show()\n",
    "\n",
    "#define the time domain\n",
    "time_domain = np.linspace(0,10,1000)\n",
    "\n",
    "#initial conditions\n",
    "x0_conditions = [(-10,2),(-10,4),(10,-2),(10,-4)]\n",
    "\n",
    "def deg_node(x0, time, eps=-0.2, range=3):\n",
    "    #define the function domain\n",
    "    xdom = np.linspace(-range,range,20)\n",
    "    ydom = np.linspace(-range,range,20)\n",
    "    phase_portrait(np.array([[-1,3],[-eps,-1]]), xdom, ydom, x0, time)\n",
    "\n",
    "\n",
    "interact(deg_node, x0=fixed(x0_conditions), time=fixed(time_domain), eps = (-0.5,0.5,0.01), range=(1,10))\n"
   ]
  }
 ],
 "metadata": {
  "anaconda-cloud": {},
  "kernelspec": {
   "display_name": "Python 3",
   "language": "python",
   "name": "python3"
  },
  "language_info": {
   "codemirror_mode": {
    "name": "ipython",
    "version": 3
   },
   "file_extension": ".py",
   "mimetype": "text/x-python",
   "name": "python",
   "nbconvert_exporter": "python",
   "pygments_lexer": "ipython3",
   "version": "3.7.3"
  },
  "title": "Exercise 4: Linear 2D systems and random gene networks"
 },
 "nbformat": 4,
 "nbformat_minor": 2
}
